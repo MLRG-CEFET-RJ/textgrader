{
 "cells": [
  {
   "cell_type": "code",
   "execution_count": null,
   "id": "9d9af463",
   "metadata": {},
   "outputs": [],
   "source": []
  },
  {
   "cell_type": "code",
   "execution_count": null,
   "id": "3fec1125",
   "metadata": {},
   "outputs": [],
   "source": [
    "def generate_word_sentence_features(df : pd.DataFrame,column = 'texto') -> pd.DataFrame:\n",
    "    \"\"\"\n",
    "    Extrai algumas features básicas dos textos\n",
    "\n",
    "    Esse método extrai alguma features dos textos, como contagem de palavras, contagem de palavras únicas \n",
    "    e contagem de sentenças\n",
    "    \n",
    "    Args:\n",
    "        df: datafame que contém as redações \n",
    "        column: nome da coluna que conterá os textos\n",
    "    \"\"\"\n",
    "\n",
    "    df['word_count'] = df[column].apply(lambda x: word_count(x))\n",
    "    df['unique_word_count'] = df[column].apply(lambda x: word_count_unique(x))\n",
    "    df['sentence_count'] = df[column].apply(lambda x: sentence_count(x))\n",
    "    \n",
    "    return df"
   ]
  },
  {
   "cell_type": "code",
   "execution_count": null,
   "id": "bedc76a6",
   "metadata": {},
   "outputs": [],
   "source": [
    "def fit_vectorizer(df_train: pd.DataFrame) -> pickle:\n",
    "    \"\"\"\n",
    "    Método responsável por usar o conjunto de treino para treinar o vetorizador de textos \n",
    "\n",
    "    O método recebe um dataframe contendo as redações que foram selecionadas para o conjunto de treino\n",
    "    e a partir dessas redações cria um vocabulário, o método então usa esse vocabulário\n",
    "     para treinar um vetorizador do tipo TF-IDF \n",
    "\n",
    "    Args:\n",
    "        df_train: conjunto de redações que foram selecionadas para treino\n",
    "    \"\"\"\n",
    "    ## obtém a lista de textos do conjunto usado para treinar o vetorizador\n",
    "    lista = list(df_train['texto'])\n",
    "\n",
    "    dicio_tf_idf = {}\n",
    "\n",
    "    for count in TF_IDF_MAX_FEATURES:\n",
    "        ## cria o vetorizador que utiliza TF-IDF\n",
    "        tv = TfidfVectorizer(min_df = 10,max_features=count)\n",
    "\n",
    "        ## treina o vetorizador com o conjunto fornecido para treino\n",
    "        vectorizer_vez = tv.fit(lista)\n",
    "\n",
    "        key = \"TF_IDF_\" + str(count)\n",
    "\n",
    "        # prepara o dicionário para versionamento\n",
    "        dicio_tf_idf[key] = vectorizer_vez\n",
    "    \n",
    "    return dicio_tf_idf"
   ]
  },
  {
   "cell_type": "code",
   "execution_count": null,
   "id": "e9a0436b",
   "metadata": {},
   "outputs": [],
   "source": [
    "def vectorize_all(df_train: pd.DataFrame,df_test: pd.DataFrame,model : pickle) -> tuple:\n",
    "    \"\"\"\n",
    "        Método responsavel por vetorizar os conjuntos de treino e teste\n",
    "\n",
    "        O método usa o vetorizador TD-IDF treinado anteriormente com o conjunto de treino \n",
    "        para vetorizar, tanto o conjunto de treino, quanto o conjunto de teste.\n",
    "        Além de vetorizar esses conjuntos, o método também separa os três tipos de texto.\n",
    "        Cabe pontuar que nessa exploração inicial, nosso pipeline somente está trabalhando com o primeiro tipo \n",
    "        de texto, mas estamos nos preparando para trabalhar com os outros tipos de texto \n",
    "\n",
    "        Args:\n",
    "            df_train: conjunto de redações de treino\n",
    "            df_test: conjunto de redações de teste\n",
    "            model: vetorizador treinado anteriormente\n",
    "    \n",
    "    \"\"\"\n",
    "\n",
    "    df_train,df_train_list = vectorize_data(df_train,model)\n",
    "    df_test,df_test_list = vectorize_data(df_test,model)\n",
    "\n",
    "   \n",
    "\n",
    "    return df_train_list,df_test_list"
   ]
  }
 ],
 "metadata": {
  "kernelspec": {
   "display_name": "Kedro (textgrader)",
   "language": "python",
   "name": "kedro_textgrader"
  },
  "language_info": {
   "codemirror_mode": {
    "name": "ipython",
    "version": 3
   },
   "file_extension": ".py",
   "mimetype": "text/x-python",
   "name": "python",
   "nbconvert_exporter": "python",
   "pygments_lexer": "ipython3",
   "version": "3.9.18"
  }
 },
 "nbformat": 4,
 "nbformat_minor": 5
}
